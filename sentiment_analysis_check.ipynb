{
 "cells": [
  {
   "cell_type": "code",
   "execution_count": 1,
   "id": "450ef0d8",
   "metadata": {},
   "outputs": [
    {
     "name": "stdout",
     "output_type": "stream",
     "text": [
      "Requirement already satisfied: transformers in c:\\users\\vinay\\anaconda3\\lib\\site-packages (4.24.0)\n",
      "Requirement already satisfied: tqdm>=4.27 in c:\\users\\vinay\\anaconda3\\lib\\site-packages (from transformers) (4.64.1)\n",
      "Requirement already satisfied: tokenizers!=0.11.3,<0.14,>=0.11.1 in c:\\users\\vinay\\anaconda3\\lib\\site-packages (from transformers) (0.11.4)\n",
      "Requirement already satisfied: pyyaml>=5.1 in c:\\users\\vinay\\anaconda3\\lib\\site-packages (from transformers) (6.0)\n",
      "Requirement already satisfied: regex!=2019.12.17 in c:\\users\\vinay\\anaconda3\\lib\\site-packages (from transformers) (2022.7.9)\n",
      "Requirement already satisfied: huggingface-hub<1.0,>=0.10.0 in c:\\users\\vinay\\anaconda3\\lib\\site-packages (from transformers) (0.10.1)\n",
      "Requirement already satisfied: requests in c:\\users\\vinay\\anaconda3\\lib\\site-packages (from transformers) (2.28.1)\n",
      "Requirement already satisfied: numpy>=1.17 in c:\\users\\vinay\\anaconda3\\lib\\site-packages (from transformers) (1.23.5)\n",
      "Requirement already satisfied: packaging>=20.0 in c:\\users\\vinay\\anaconda3\\lib\\site-packages (from transformers) (22.0)\n",
      "Requirement already satisfied: filelock in c:\\users\\vinay\\anaconda3\\lib\\site-packages (from transformers) (3.9.0)\n",
      "Requirement already satisfied: typing-extensions>=3.7.4.3 in c:\\users\\vinay\\anaconda3\\lib\\site-packages (from huggingface-hub<1.0,>=0.10.0->transformers) (4.4.0)\n",
      "Requirement already satisfied: colorama in c:\\users\\vinay\\anaconda3\\lib\\site-packages (from tqdm>=4.27->transformers) (0.4.6)\n",
      "Requirement already satisfied: charset-normalizer<3,>=2 in c:\\users\\vinay\\anaconda3\\lib\\site-packages (from requests->transformers) (2.0.4)\n",
      "Requirement already satisfied: urllib3<1.27,>=1.21.1 in c:\\users\\vinay\\anaconda3\\lib\\site-packages (from requests->transformers) (1.26.14)\n",
      "Requirement already satisfied: idna<4,>=2.5 in c:\\users\\vinay\\anaconda3\\lib\\site-packages (from requests->transformers) (3.4)\n",
      "Requirement already satisfied: certifi>=2017.4.17 in c:\\users\\vinay\\anaconda3\\lib\\site-packages (from requests->transformers) (2023.5.7)\n"
     ]
    }
   ],
   "source": [
    "!pip install transformers"
   ]
  },
  {
   "cell_type": "markdown",
   "id": "a5ac4f03",
   "metadata": {},
   "source": [
    "## 1. Load Financial Phrasebank Dataset"
   ]
  },
  {
   "cell_type": "code",
   "execution_count": 2,
   "id": "7feda16f",
   "metadata": {},
   "outputs": [],
   "source": [
    "file1 = open(\"Sentences_AllAgree.txt\", \"r\")\n",
    "data=file1.readlines()"
   ]
  },
  {
   "cell_type": "code",
   "execution_count": 3,
   "id": "e616ca20",
   "metadata": {},
   "outputs": [
    {
     "data": {
      "text/plain": [
       "'According to Gran , the company has no plans to move all production to Russia , although that is where the company is growing .@neutral\\n'"
      ]
     },
     "execution_count": 3,
     "metadata": {},
     "output_type": "execute_result"
    }
   ],
   "source": [
    "data[0]"
   ]
  },
  {
   "cell_type": "markdown",
   "id": "367ad3c0",
   "metadata": {},
   "source": [
    "#### using list comprehension"
   ]
  },
  {
   "cell_type": "code",
   "execution_count": 4,
   "id": "c155533a",
   "metadata": {},
   "outputs": [],
   "source": [
    "sentence, label = [d.strip().split('@')[0] for d in data], [d.strip().split('@')[1] for d in data]"
   ]
  },
  {
   "cell_type": "code",
   "execution_count": 5,
   "id": "51303a02",
   "metadata": {},
   "outputs": [
    {
     "data": {
      "text/plain": [
       "(2264, 2264)"
      ]
     },
     "execution_count": 5,
     "metadata": {},
     "output_type": "execute_result"
    }
   ],
   "source": [
    "len(sentence), len(label)"
   ]
  },
  {
   "cell_type": "markdown",
   "id": "b63b4fde",
   "metadata": {},
   "source": [
    "#### using for loop"
   ]
  },
  {
   "cell_type": "code",
   "execution_count": 6,
   "id": "2fb39b1f",
   "metadata": {},
   "outputs": [],
   "source": [
    "# split using @ to create sentences and labels lists.\n",
    "\n",
    "sentence=[] \n",
    "label=[]\n",
    "for d in data:\n",
    "    sentence.append(d.strip().split('@')[0])\n",
    "    label.append(d.strip().split('@')[1])"
   ]
  },
  {
   "cell_type": "code",
   "execution_count": 7,
   "id": "2d572c4b",
   "metadata": {},
   "outputs": [
    {
     "data": {
      "text/plain": [
       "'According to Gran , the company has no plans to move all production to Russia , although that is where the company is growing .@neutral\\n'"
      ]
     },
     "execution_count": 7,
     "metadata": {},
     "output_type": "execute_result"
    }
   ],
   "source": [
    "data[0]"
   ]
  },
  {
   "cell_type": "code",
   "execution_count": 8,
   "id": "1d3a4175",
   "metadata": {},
   "outputs": [
    {
     "data": {
      "text/plain": [
       "(2264, 2264)"
      ]
     },
     "execution_count": 8,
     "metadata": {},
     "output_type": "execute_result"
    }
   ],
   "source": [
    "len(sentence),len(label)"
   ]
  },
  {
   "cell_type": "code",
   "execution_count": 9,
   "id": "4b0e5d21",
   "metadata": {},
   "outputs": [
    {
     "data": {
      "text/html": [
       "<div>\n",
       "<style scoped>\n",
       "    .dataframe tbody tr th:only-of-type {\n",
       "        vertical-align: middle;\n",
       "    }\n",
       "\n",
       "    .dataframe tbody tr th {\n",
       "        vertical-align: top;\n",
       "    }\n",
       "\n",
       "    .dataframe thead th {\n",
       "        text-align: right;\n",
       "    }\n",
       "</style>\n",
       "<table border=\"1\" class=\"dataframe\">\n",
       "  <thead>\n",
       "    <tr style=\"text-align: right;\">\n",
       "      <th></th>\n",
       "      <th>Sentence</th>\n",
       "      <th>Label</th>\n",
       "    </tr>\n",
       "  </thead>\n",
       "  <tbody>\n",
       "    <tr>\n",
       "      <th>0</th>\n",
       "      <td>According to Gran , the company has no plans t...</td>\n",
       "      <td>neutral</td>\n",
       "    </tr>\n",
       "    <tr>\n",
       "      <th>1</th>\n",
       "      <td>For the last quarter of 2010 , Componenta 's n...</td>\n",
       "      <td>positive</td>\n",
       "    </tr>\n",
       "    <tr>\n",
       "      <th>2</th>\n",
       "      <td>In the third quarter of 2010 , net sales incre...</td>\n",
       "      <td>positive</td>\n",
       "    </tr>\n",
       "    <tr>\n",
       "      <th>3</th>\n",
       "      <td>Operating profit rose to EUR 13.1 mn from EUR ...</td>\n",
       "      <td>positive</td>\n",
       "    </tr>\n",
       "    <tr>\n",
       "      <th>4</th>\n",
       "      <td>Operating profit totalled EUR 21.1 mn , up fro...</td>\n",
       "      <td>positive</td>\n",
       "    </tr>\n",
       "    <tr>\n",
       "      <th>...</th>\n",
       "      <td>...</td>\n",
       "      <td>...</td>\n",
       "    </tr>\n",
       "    <tr>\n",
       "      <th>2259</th>\n",
       "      <td>Operating result for the 12-month period decre...</td>\n",
       "      <td>negative</td>\n",
       "    </tr>\n",
       "    <tr>\n",
       "      <th>2260</th>\n",
       "      <td>HELSINKI Thomson Financial - Shares in Cargote...</td>\n",
       "      <td>negative</td>\n",
       "    </tr>\n",
       "    <tr>\n",
       "      <th>2261</th>\n",
       "      <td>LONDON MarketWatch -- Share prices ended lower...</td>\n",
       "      <td>negative</td>\n",
       "    </tr>\n",
       "    <tr>\n",
       "      <th>2262</th>\n",
       "      <td>Operating profit fell to EUR 35.4 mn from EUR ...</td>\n",
       "      <td>negative</td>\n",
       "    </tr>\n",
       "    <tr>\n",
       "      <th>2263</th>\n",
       "      <td>Sales in Finland decreased by 10.5 % in Januar...</td>\n",
       "      <td>negative</td>\n",
       "    </tr>\n",
       "  </tbody>\n",
       "</table>\n",
       "<p>2264 rows × 2 columns</p>\n",
       "</div>"
      ],
      "text/plain": [
       "                                               Sentence     Label\n",
       "0     According to Gran , the company has no plans t...   neutral\n",
       "1     For the last quarter of 2010 , Componenta 's n...  positive\n",
       "2     In the third quarter of 2010 , net sales incre...  positive\n",
       "3     Operating profit rose to EUR 13.1 mn from EUR ...  positive\n",
       "4     Operating profit totalled EUR 21.1 mn , up fro...  positive\n",
       "...                                                 ...       ...\n",
       "2259  Operating result for the 12-month period decre...  negative\n",
       "2260  HELSINKI Thomson Financial - Shares in Cargote...  negative\n",
       "2261  LONDON MarketWatch -- Share prices ended lower...  negative\n",
       "2262  Operating profit fell to EUR 35.4 mn from EUR ...  negative\n",
       "2263  Sales in Finland decreased by 10.5 % in Januar...  negative\n",
       "\n",
       "[2264 rows x 2 columns]"
      ]
     },
     "execution_count": 9,
     "metadata": {},
     "output_type": "execute_result"
    }
   ],
   "source": [
    "#create pandas dataframe for the datasets\n",
    "\n",
    "import pandas as pd\n",
    "\n",
    "df = pd.DataFrame({\"Sentence\":sentence, \"Label\":label})\n",
    "df"
   ]
  },
  {
   "cell_type": "code",
   "execution_count": 10,
   "id": "efeb757b",
   "metadata": {},
   "outputs": [
    {
     "data": {
      "text/plain": [
       "neutral     1391\n",
       "positive     570\n",
       "negative     303\n",
       "Name: Label, dtype: int64"
      ]
     },
     "execution_count": 10,
     "metadata": {},
     "output_type": "execute_result"
    }
   ],
   "source": [
    "df.Label.value_counts()"
   ]
  },
  {
   "cell_type": "code",
   "execution_count": 11,
   "id": "e06bee9c",
   "metadata": {},
   "outputs": [
    {
     "data": {
      "text/html": [
       "<div>\n",
       "<style scoped>\n",
       "    .dataframe tbody tr th:only-of-type {\n",
       "        vertical-align: middle;\n",
       "    }\n",
       "\n",
       "    .dataframe tbody tr th {\n",
       "        vertical-align: top;\n",
       "    }\n",
       "\n",
       "    .dataframe thead th {\n",
       "        text-align: right;\n",
       "    }\n",
       "</style>\n",
       "<table border=\"1\" class=\"dataframe\">\n",
       "  <thead>\n",
       "    <tr style=\"text-align: right;\">\n",
       "      <th></th>\n",
       "      <th>Sentence</th>\n",
       "      <th>Label</th>\n",
       "    </tr>\n",
       "  </thead>\n",
       "  <tbody>\n",
       "    <tr>\n",
       "      <th>0</th>\n",
       "      <td>According to Gran , the company has no plans t...</td>\n",
       "      <td>neutral</td>\n",
       "    </tr>\n",
       "    <tr>\n",
       "      <th>1</th>\n",
       "      <td>For the last quarter of 2010 , Componenta 's n...</td>\n",
       "      <td>positive</td>\n",
       "    </tr>\n",
       "    <tr>\n",
       "      <th>2</th>\n",
       "      <td>In the third quarter of 2010 , net sales incre...</td>\n",
       "      <td>positive</td>\n",
       "    </tr>\n",
       "    <tr>\n",
       "      <th>3</th>\n",
       "      <td>Operating profit rose to EUR 13.1 mn from EUR ...</td>\n",
       "      <td>positive</td>\n",
       "    </tr>\n",
       "    <tr>\n",
       "      <th>4</th>\n",
       "      <td>Operating profit totalled EUR 21.1 mn , up fro...</td>\n",
       "      <td>positive</td>\n",
       "    </tr>\n",
       "    <tr>\n",
       "      <th>5</th>\n",
       "      <td>Finnish Talentum reports its operating profit ...</td>\n",
       "      <td>positive</td>\n",
       "    </tr>\n",
       "    <tr>\n",
       "      <th>6</th>\n",
       "      <td>Clothing retail chain Sepp+ñl+ñ 's sales incre...</td>\n",
       "      <td>positive</td>\n",
       "    </tr>\n",
       "    <tr>\n",
       "      <th>7</th>\n",
       "      <td>Consolidated net sales increased 16 % to reach...</td>\n",
       "      <td>positive</td>\n",
       "    </tr>\n",
       "    <tr>\n",
       "      <th>8</th>\n",
       "      <td>Foundries division reports its sales increased...</td>\n",
       "      <td>positive</td>\n",
       "    </tr>\n",
       "    <tr>\n",
       "      <th>9</th>\n",
       "      <td>HELSINKI ( AFX ) - Shares closed higher , led ...</td>\n",
       "      <td>positive</td>\n",
       "    </tr>\n",
       "  </tbody>\n",
       "</table>\n",
       "</div>"
      ],
      "text/plain": [
       "                                            Sentence     Label\n",
       "0  According to Gran , the company has no plans t...   neutral\n",
       "1  For the last quarter of 2010 , Componenta 's n...  positive\n",
       "2  In the third quarter of 2010 , net sales incre...  positive\n",
       "3  Operating profit rose to EUR 13.1 mn from EUR ...  positive\n",
       "4  Operating profit totalled EUR 21.1 mn , up fro...  positive\n",
       "5  Finnish Talentum reports its operating profit ...  positive\n",
       "6  Clothing retail chain Sepp+ñl+ñ 's sales incre...  positive\n",
       "7  Consolidated net sales increased 16 % to reach...  positive\n",
       "8  Foundries division reports its sales increased...  positive\n",
       "9  HELSINKI ( AFX ) - Shares closed higher , led ...  positive"
      ]
     },
     "execution_count": 11,
     "metadata": {},
     "output_type": "execute_result"
    }
   ],
   "source": [
    "df.head(10)"
   ]
  },
  {
   "cell_type": "markdown",
   "id": "88478cb0",
   "metadata": {},
   "source": [
    "## 2. Load & Infer Pretrained Model "
   ]
  },
  {
   "cell_type": "code",
   "execution_count": 12,
   "id": "98969e38",
   "metadata": {},
   "outputs": [],
   "source": [
    "# import mrm8488/distilroberta-finetuned-financial-news-sentiment-analysis model from huggingface\n",
    "# tried siebert/sentiment-roberta, but did not perform well.\n",
    "\n",
    "from transformers import pipeline\n",
    "#sentiment_analysis = pipeline(\"sentiment-analysis\", model=\"siebert/sentiment-roberta-large-english\")"
   ]
  },
  {
   "cell_type": "code",
   "execution_count": 13,
   "id": "70197391",
   "metadata": {},
   "outputs": [],
   "source": [
    "fin_sentiment_analysis = pipeline(\"sentiment-analysis\", model=\"mrm8488/distilroberta-finetuned-financial-news-sentiment-analysis\")"
   ]
  },
  {
   "cell_type": "code",
   "execution_count": 14,
   "id": "130f28a6",
   "metadata": {},
   "outputs": [
    {
     "data": {
      "text/plain": [
       "[{'label': 'neutral', 'score': 0.9997739195823669}]"
      ]
     },
     "execution_count": 14,
     "metadata": {},
     "output_type": "execute_result"
    }
   ],
   "source": [
    "# testing on one sample\n",
    "sentence = \"he is a good boy\"\n",
    "fin_sentiment_analysis(sentence)"
   ]
  },
  {
   "cell_type": "code",
   "execution_count": 15,
   "id": "547a423d",
   "metadata": {
    "scrolled": false
   },
   "outputs": [],
   "source": [
    "#taking sample 200 sentence for analyzation and appending it in model_prediction\n",
    "model_prediction = []\n",
    "indexes = []\n",
    "for index, row in df.sample(200).iterrows():\n",
    "    model_prediction.append(fin_sentiment_analysis(row['Sentence'])[0]['label'].lower())\n",
    "    indexes.append(index)"
   ]
  },
  {
   "cell_type": "code",
   "execution_count": 16,
   "id": "ec6238ef",
   "metadata": {},
   "outputs": [
    {
     "data": {
      "text/plain": [
       "200"
      ]
     },
     "execution_count": 16,
     "metadata": {},
     "output_type": "execute_result"
    }
   ],
   "source": [
    "len(model_prediction)"
   ]
  },
  {
   "cell_type": "code",
   "execution_count": 17,
   "id": "92f595ae",
   "metadata": {},
   "outputs": [],
   "source": [
    "df_head=df.iloc[indexes]"
   ]
  },
  {
   "cell_type": "code",
   "execution_count": 18,
   "id": "91d71cf8",
   "metadata": {},
   "outputs": [
    {
     "data": {
      "text/plain": [
       "(200, 2)"
      ]
     },
     "execution_count": 18,
     "metadata": {},
     "output_type": "execute_result"
    }
   ],
   "source": [
    "df_head.shape"
   ]
  },
  {
   "cell_type": "code",
   "execution_count": 19,
   "id": "0fb80ba6",
   "metadata": {},
   "outputs": [
    {
     "name": "stderr",
     "output_type": "stream",
     "text": [
      "C:\\Users\\vinay\\AppData\\Local\\Temp\\ipykernel_30884\\3040885475.py:2: SettingWithCopyWarning: \n",
      "A value is trying to be set on a copy of a slice from a DataFrame.\n",
      "Try using .loc[row_indexer,col_indexer] = value instead\n",
      "\n",
      "See the caveats in the documentation: https://pandas.pydata.org/pandas-docs/stable/user_guide/indexing.html#returning-a-view-versus-a-copy\n",
      "  df_head[\"Prediction\"]=model_prediction\n"
     ]
    }
   ],
   "source": [
    "#create model prediction column\n",
    "df_head[\"Prediction\"]=model_prediction"
   ]
  },
  {
   "cell_type": "code",
   "execution_count": 20,
   "id": "e92ffcf6",
   "metadata": {},
   "outputs": [
    {
     "data": {
      "text/html": [
       "<div>\n",
       "<style scoped>\n",
       "    .dataframe tbody tr th:only-of-type {\n",
       "        vertical-align: middle;\n",
       "    }\n",
       "\n",
       "    .dataframe tbody tr th {\n",
       "        vertical-align: top;\n",
       "    }\n",
       "\n",
       "    .dataframe thead th {\n",
       "        text-align: right;\n",
       "    }\n",
       "</style>\n",
       "<table border=\"1\" class=\"dataframe\">\n",
       "  <thead>\n",
       "    <tr style=\"text-align: right;\">\n",
       "      <th></th>\n",
       "      <th>Sentence</th>\n",
       "      <th>Label</th>\n",
       "      <th>Prediction</th>\n",
       "    </tr>\n",
       "  </thead>\n",
       "  <tbody>\n",
       "    <tr>\n",
       "      <th>595</th>\n",
       "      <td>Stock Exchange Release 10/3/2011 12:00 Sanoma ...</td>\n",
       "      <td>neutral</td>\n",
       "      <td>neutral</td>\n",
       "    </tr>\n",
       "    <tr>\n",
       "      <th>713</th>\n",
       "      <td>The total scope of the project is about 38,000...</td>\n",
       "      <td>neutral</td>\n",
       "      <td>neutral</td>\n",
       "    </tr>\n",
       "    <tr>\n",
       "      <th>664</th>\n",
       "      <td>It is hand-painted resin with real 14-0 treble...</td>\n",
       "      <td>neutral</td>\n",
       "      <td>neutral</td>\n",
       "    </tr>\n",
       "    <tr>\n",
       "      <th>2153</th>\n",
       "      <td>Net profit in the three months through March 3...</td>\n",
       "      <td>negative</td>\n",
       "      <td>negative</td>\n",
       "    </tr>\n",
       "    <tr>\n",
       "      <th>1609</th>\n",
       "      <td>Cargotec 's business areas also include the co...</td>\n",
       "      <td>neutral</td>\n",
       "      <td>neutral</td>\n",
       "    </tr>\n",
       "  </tbody>\n",
       "</table>\n",
       "</div>"
      ],
      "text/plain": [
       "                                               Sentence     Label Prediction\n",
       "595   Stock Exchange Release 10/3/2011 12:00 Sanoma ...   neutral    neutral\n",
       "713   The total scope of the project is about 38,000...   neutral    neutral\n",
       "664   It is hand-painted resin with real 14-0 treble...   neutral    neutral\n",
       "2153  Net profit in the three months through March 3...  negative   negative\n",
       "1609  Cargotec 's business areas also include the co...   neutral    neutral"
      ]
     },
     "execution_count": 20,
     "metadata": {},
     "output_type": "execute_result"
    }
   ],
   "source": [
    "df_head.head()"
   ]
  },
  {
   "cell_type": "markdown",
   "id": "c971af7d",
   "metadata": {},
   "source": [
    "## 3. Accuracy Metrics: Checking Performance"
   ]
  },
  {
   "cell_type": "code",
   "execution_count": 21,
   "id": "fd9f12b1",
   "metadata": {},
   "outputs": [],
   "source": [
    "#import accuracy, confusion matrix library\n",
    "from sklearn.metrics import accuracy_score, confusion_matrix"
   ]
  },
  {
   "cell_type": "code",
   "execution_count": 22,
   "id": "a0458717",
   "metadata": {},
   "outputs": [],
   "source": [
    "acc = accuracy_score(df_head.Label,df_head.Prediction)"
   ]
  },
  {
   "cell_type": "code",
   "execution_count": 23,
   "id": "eee555cb",
   "metadata": {},
   "outputs": [],
   "source": [
    "pd.set_option('display.max_rows', 200)\n",
    "pd.set_option('display.max_colwidth', 1000)"
   ]
  },
  {
   "cell_type": "code",
   "execution_count": 24,
   "id": "91eae293",
   "metadata": {},
   "outputs": [],
   "source": [
    "#code to calculate confusion matrix using sklearn\n",
    "df_cm = confusion_matrix(df_head.Label,df_head.Prediction, labels=[\"positive\", \"negative\", \"neutral\"])"
   ]
  },
  {
   "cell_type": "code",
   "execution_count": 25,
   "id": "90c79a51",
   "metadata": {},
   "outputs": [],
   "source": [
    "#seaborn plot for plotting confusion matrix\n",
    "import seaborn as sn"
   ]
  },
  {
   "cell_type": "code",
   "execution_count": 26,
   "id": "a93fe774",
   "metadata": {},
   "outputs": [
    {
     "data": {
      "text/plain": [
       "<Axes: >"
      ]
     },
     "execution_count": 26,
     "metadata": {},
     "output_type": "execute_result"
    },
    {
     "data": {
      "image/png": "[encoded data removed]",
      "text/plain": [
       "<Figure size 640x480 with 2 Axes>"
      ]
     },
     "metadata": {},
     "output_type": "display_data"
    }
   ],
   "source": [
    "sn.heatmap(pd.DataFrame(df_cm, index=[\"positive\", \"negative\", \"neutral\"], columns=[\"positive\", \"negative\", \"neutral\"]), annot=True)"
   ]
  }
 ],
 "metadata": {
  "kernelspec": {
   "display_name": "Python 3 (ipykernel)",
   "language": "python",
   "name": "python3"
  },
  "language_info": {
   "codemirror_mode": {
    "name": "ipython",
    "version": 3
   },
   "file_extension": ".py",
   "mimetype": "text/x-python",
   "name": "python",
   "nbconvert_exporter": "python",
   "pygments_lexer": "ipython3",
   "version": "3.10.9"
  }
 },
 "nbformat": 4,
 "nbformat_minor": 5
}
